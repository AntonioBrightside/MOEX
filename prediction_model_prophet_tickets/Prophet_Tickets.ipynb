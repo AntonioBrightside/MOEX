{
 "cells": [
  {
   "cell_type": "markdown",
   "metadata": {
    "id": "7YP4trlQPCnf"
   },
   "source": [
    "# Preprocessing"
   ]
  },
  {
   "cell_type": "code",
   "execution_count": 1,
   "metadata": {},
   "outputs": [],
   "source": [
    "import requests\n",
    "import datetime"
   ]
  },
  {
   "cell_type": "code",
   "execution_count": 2,
   "metadata": {},
   "outputs": [],
   "source": [
    "def get_historical_data_with_end_data(start_date, finish_date, ticker,\n",
    "                                      datablock='history', engine='stock', market='shares', board='TQBR',\n",
    "                                      columns='TRADEDATE, OPEN, CLOSE'):\n",
    "    \"\"\"To get historical stocks data from specific till specific date.\n",
    "    Accept only one ticker. Return list of data: date, open, close.\n",
    "    :argument start_date: should be in string format like '2023-01-01'\n",
    "    :argument finish_date: should be in string format like '2023-01-03'\n",
    "    :argument ticker: accept only one ticker\"\"\"\n",
    "\n",
    "    result = []\n",
    "\n",
    "    finish_date = datetime.datetime.strptime(finish_date, '%Y-%m-%d').date()\n",
    "    days = [finish_date - datetime.timedelta(days=i) for i in range(4)]\n",
    "    start_date = datetime.datetime.strptime(start_date, '%Y-%m-%d').date()\n",
    "\n",
    "    def get_data(start_date=start_date, end_date=None):\n",
    "        URL = f'http://iss.moex.com/iss/history/engines/{engine}/markets/{market}/boards/{board}/securities/{ticker}.json'\n",
    "        r = requests.get(URL, params={'iss.meta': 'off', 'iss.only': datablock,\n",
    "                                      'iss.json': 'extended',\n",
    "                                      f'{datablock}.columns': columns,\n",
    "                                      'from': start_date,\n",
    "                                      'till': end_date})\n",
    "\n",
    "        data = r.json()[1].get(datablock)\n",
    "        for i in data:\n",
    "            for key in i:\n",
    "                result.append(i[key])\n",
    "\n",
    "        end_date = data[len(data) - 1].get('TRADEDATE')\n",
    "        end_date = datetime.datetime.strptime(end_date, '%Y-%m-%d').date()\n",
    "        return end_date\n",
    "\n",
    "    while True:\n",
    "\n",
    "        end_date = start_date + datetime.timedelta(days=100)\n",
    "\n",
    "        if finish_date <= end_date:\n",
    "            end_date = finish_date\n",
    "\n",
    "        if end_date in days:  # ?\n",
    "            if end_date in result:\n",
    "                return result\n",
    "            else:\n",
    "                get_data(start_date=start_date, end_date=end_date)\n",
    "                return result\n",
    "        else:\n",
    "            end_date = get_data(start_date=start_date, end_date=end_date)\n",
    "            start_date = end_date"
   ]
  },
  {
   "cell_type": "code",
   "execution_count": 3,
   "metadata": {},
   "outputs": [],
   "source": [
    "result = get_historical_data_with_end_data(start_date='2022-01-03', finish_date='2023-06-05', ticker='GAZP')"
   ]
  },
  {
   "cell_type": "code",
   "execution_count": null,
   "metadata": {},
   "outputs": [],
   "source": [
    "data = []\n",
    "temporary = []\n",
    "\n",
    "for i, v in enumerate(raw_data, 1):\n",
    "    temporary.append(v)\n",
    "    \n",
    "    if i % 3 == 0:\n",
    "        data.append(temporary)\n",
    "        temporary = []"
   ]
  },
  {
   "cell_type": "code",
   "execution_count": null,
   "metadata": {},
   "outputs": [],
   "source": [
    "df = pd.DataFrame(columns=['date', 'open', 'close'], data=data)\n",
    "df.drop(df[df['close'] == 'None'].index, inplace=True)\n",
    "df = df.reset_index(drop=True)\n",
    "\n",
    "df = df.rename(columns={'close': 'y', 'date': 'ds'})\n",
    "df = df.drop(columns=['open'])\n",
    "\n",
    "df['ds'] = pd.to_datetime(df['ds'])\n",
    "df['y'] = df['y'].astype('float')\n",
    "\n",
    "df['y_18'] = df.iloc[:,1].rolling(window=18).mean().round(2)\n",
    "df['y_50'] = df.iloc[:,1].rolling(window=50).mean().round(2)\n",
    "\n",
    "display(df.tail())\n",
    "df.info()"
   ]
  },
  {
   "cell_type": "markdown",
   "metadata": {
    "id": "psvLluNL9lMH"
   },
   "source": [
    "<b>Import Libs</b>"
   ]
  },
  {
   "cell_type": "code",
   "execution_count": null,
   "metadata": {
    "id": "BG04QsZ59fjT"
   },
   "outputs": [],
   "source": [
    "import pandas as pd\n",
    "import numpy as np\n",
    "from prophet import Prophet \n",
    "import matplotlib.pyplot as plt\n",
    " \n",
    "%matplotlib inline\n",
    "\n",
    "plt.rcParams['figure.figsize']=(20,10)\n",
    "plt.style.use('ggplot')"
   ]
  },
  {
   "cell_type": "markdown",
   "metadata": {},
   "source": [
    "<b>Read *csv file</b>"
   ]
  },
  {
   "cell_type": "code",
   "execution_count": null,
   "metadata": {},
   "outputs": [],
   "source": [
    "f= open('API data/MTSS.csv', 'r')\n",
    "raw_data = f.read().split(',')\n",
    "\n",
    "data = []\n",
    "temporary = []\n",
    "\n",
    "for i, v in enumerate(raw_data, 1):\n",
    "    temporary.append(v)\n",
    "    \n",
    "    if i % 3 == 0:\n",
    "        data.append(temporary)\n",
    "        temporary = []"
   ]
  },
  {
   "cell_type": "markdown",
   "metadata": {
    "id": "t-eMHPT893hW"
   },
   "source": [
    "<b>Make DF and preprocessing data</b>"
   ]
  },
  {
   "cell_type": "code",
   "execution_count": null,
   "metadata": {},
   "outputs": [],
   "source": [
    "df = pd.DataFrame(columns=['date', 'open', 'close'], data=data)\n",
    "df.drop(df[df['close'] == 'None'].index, inplace=True)\n",
    "df = df.reset_index(drop=True)\n",
    "\n",
    "df = df.rename(columns={'close': 'y', 'date': 'ds'})\n",
    "df = df.drop(columns=['open'])\n",
    "\n",
    "df['ds'] = pd.to_datetime(df['ds'])\n",
    "df['y'] = df['y'].astype('float')\n",
    "\n",
    "df['y_18'] = df.iloc[:,1].rolling(window=18).mean().round(2)\n",
    "df['y_50'] = df.iloc[:,1].rolling(window=50).mean().round(2)\n",
    "\n",
    "display(df.tail())\n",
    "df.info()"
   ]
  },
  {
   "cell_type": "markdown",
   "metadata": {
    "id": "PJ9ti0Th-jYR"
   },
   "source": [
    "# Let's Start Prophet"
   ]
  },
  {
   "cell_type": "markdown",
   "metadata": {
    "id": "EjBAUgYd_Kk6"
   },
   "source": [
    "<b>Look at the data</b>"
   ]
  },
  {
   "cell_type": "code",
   "execution_count": null,
   "metadata": {
    "id": "NuLYQ3ex_F7r"
   },
   "outputs": [],
   "source": [
    "df.set_index('ds').y.plot()\n",
    "df.set_index('ds').y_18.plot()\n",
    "df.set_index('ds').y_50.plot()"
   ]
  },
  {
   "cell_type": "markdown",
   "metadata": {
    "id": "7_5zSfyL_oCS"
   },
   "source": [
    "**Running Prophet**"
   ]
  },
  {
   "cell_type": "code",
   "execution_count": null,
   "metadata": {
    "id": "a0v6cJzVnmXR"
   },
   "outputs": [],
   "source": [
    "model = Prophet()\n",
    "model.fit(df)\n",
    "\n",
    "# Added (AM: changed to 30 days [23.06.2023])\n",
    "future = model.make_future_dataframe(periods=30, freq = 'd')\n",
    "#future.tail()\n",
    "\n",
    "#model.fit(df)\n",
    "forecast = model.predict(future)\n",
    "fig = model.plot_components(forecast)"
   ]
  },
  {
   "cell_type": "code",
   "execution_count": null,
   "metadata": {
    "id": "yx-9sDxgAMGM"
   },
   "outputs": [],
   "source": [
    "forecast = model.predict(future)"
   ]
  },
  {
   "cell_type": "code",
   "execution_count": null,
   "metadata": {
    "id": "x-JkYiNDAPXU"
   },
   "outputs": [],
   "source": [
    "forecast[['ds', 'yhat', 'yhat_lower', 'yhat_upper']].tail()"
   ]
  },
  {
   "cell_type": "markdown",
   "metadata": {
    "id": "ftVBZ_5MAWif"
   },
   "source": [
    "<b>Plotting</b>"
   ]
  },
  {
   "cell_type": "code",
   "execution_count": null,
   "metadata": {
    "id": "AdknfotQATKV"
   },
   "outputs": [],
   "source": [
    "model.plot(forecast);"
   ]
  },
  {
   "cell_type": "markdown",
   "metadata": {
    "id": "MZ8nZBqyAsGT"
   },
   "source": [
    "<b>Visualizing Prophet models</b>"
   ]
  },
  {
   "cell_type": "code",
   "execution_count": null,
   "metadata": {
    "id": "QGnt_crfAYNS"
   },
   "outputs": [],
   "source": [
    "df.set_index('ds', inplace=True)\n",
    "forecast.set_index('ds', inplace=True)"
   ]
  },
  {
   "cell_type": "code",
   "execution_count": null,
   "metadata": {
    "id": "9EWrOcBUAvsY"
   },
   "outputs": [],
   "source": [
    "viz_df = df.join(forecast[['yhat', 'yhat_lower','yhat_upper']], how = 'outer')"
   ]
  },
  {
   "cell_type": "code",
   "execution_count": null,
   "metadata": {
    "id": "L7dFuz9eBAhZ"
   },
   "outputs": [],
   "source": [
    "viz_df[['y', 'yhat','y_18','y_50']].plot()"
   ]
  },
  {
   "cell_type": "markdown",
   "metadata": {
    "id": "OHfhG0YVJS2i"
   },
   "source": [
    "<b> Saving project data in *xlsx</b>"
   ]
  },
  {
   "cell_type": "code",
   "execution_count": null,
   "metadata": {},
   "outputs": [],
   "source": [
    "viz_df.to_excel(\"forecast_results/MTSS_forecast.xlsx\")  "
   ]
  }
 ],
 "metadata": {
  "colab": {
   "provenance": []
  },
  "kernelspec": {
   "display_name": "Python 3 (ipykernel)",
   "language": "python",
   "name": "python3"
  },
  "language_info": {
   "codemirror_mode": {
    "name": "ipython",
    "version": 3
   },
   "file_extension": ".py",
   "mimetype": "text/x-python",
   "name": "python",
   "nbconvert_exporter": "python",
   "pygments_lexer": "ipython3",
   "version": "3.7.16"
  }
 },
 "nbformat": 4,
 "nbformat_minor": 1
}
