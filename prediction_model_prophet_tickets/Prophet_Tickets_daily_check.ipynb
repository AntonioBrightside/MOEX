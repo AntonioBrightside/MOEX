{
 "cells": [
  {
   "cell_type": "markdown",
   "metadata": {
    "id": "7YP4trlQPCnf"
   },
   "source": [
    "# Preprocessing"
   ]
  },
  {
   "cell_type": "markdown",
   "metadata": {
    "id": "psvLluNL9lMH"
   },
   "source": [
    "<b>Import Libs</b>"
   ]
  },
  {
   "cell_type": "code",
   "execution_count": 1,
   "metadata": {
    "id": "BG04QsZ59fjT"
   },
   "outputs": [],
   "source": [
    "import requests\n",
    "import datetime\n",
    "import pandas as pd\n",
    "import numpy as np\n",
    "from prophet import Prophet \n",
    "import matplotlib.pyplot as plt\n",
    " \n",
    "%matplotlib inline\n",
    "\n",
    "plt.rcParams['figure.figsize']=(20,10)\n",
    "plt.style.use('ggplot')"
   ]
  },
  {
   "cell_type": "markdown",
   "metadata": {},
   "source": [
    "<b>Get API data from specific date to specific date</b>"
   ]
  },
  {
   "cell_type": "code",
   "execution_count": 2,
   "metadata": {},
   "outputs": [],
   "source": [
    "def get_historical_data_with_end_data(start_date, finish_date, ticker,\n",
    "                                      datablock='history', engine='stock', market='shares', board='TQBR',\n",
    "                                      columns='TRADEDATE, OPEN, CLOSE'):\n",
    "    \"\"\"To get historical stocks data from specific till specific date.\n",
    "    Accept only one ticker. Return list of data: date, open, close.\n",
    "    :argument start_date: should be in string format like '2023-01-01'\n",
    "    :argument finish_date: should be in string format like '2023-01-03'\n",
    "    :argument ticker: accept only one ticker\"\"\"\n",
    "\n",
    "    result = []\n",
    "\n",
    "    finish_date = datetime.datetime.strptime(finish_date, '%Y-%m-%d').date()\n",
    "    days = [finish_date - datetime.timedelta(days=i) for i in range(4)]\n",
    "    start_date = datetime.datetime.strptime(start_date, '%Y-%m-%d').date()\n",
    "\n",
    "    def get_data(start_date=start_date, end_date=None):\n",
    "        URL = f'http://iss.moex.com/iss/history/engines/{engine}/markets/{market}/boards/{board}/securities/{ticker}.json'\n",
    "        r = requests.get(URL, params={'iss.meta': 'off', 'iss.only': datablock,\n",
    "                                      'iss.json': 'extended',\n",
    "                                      f'{datablock}.columns': columns,\n",
    "                                      'from': start_date,\n",
    "                                      'till': end_date})\n",
    "\n",
    "        data = r.json()[1].get(datablock)\n",
    "        for i in data:\n",
    "            for key in i:\n",
    "                result.append(i[key])\n",
    "\n",
    "        end_date = data[len(data) - 1].get('TRADEDATE')\n",
    "        end_date = datetime.datetime.strptime(end_date, '%Y-%m-%d').date()\n",
    "        return end_date\n",
    "\n",
    "    while True:\n",
    "\n",
    "        end_date = start_date + datetime.timedelta(days=100)\n",
    "\n",
    "        if finish_date <= end_date:\n",
    "            end_date = finish_date\n",
    "\n",
    "        if end_date in days:  # ?\n",
    "            if end_date in result:\n",
    "                return result\n",
    "            else:\n",
    "                get_data(start_date=start_date, end_date=end_date)\n",
    "                return result\n",
    "        else:\n",
    "            end_date = get_data(start_date=start_date, end_date=end_date)\n",
    "            start_date = end_date"
   ]
  },
  {
   "cell_type": "code",
   "execution_count": 3,
   "metadata": {},
   "outputs": [],
   "source": [
    "def get_historical_data(start_date, ticker,\n",
    "                        datablock='history', engine='stock', market='shares', board='TQBR',\n",
    "                        columns='TRADEDATE, OPEN, CLOSE'):\n",
    "    \"\"\"To get historical stocks data from specific date. Return list of data: date, open, close.\n",
    "    :argument start_date: should be in string format like '2023-01-01'\"\"\"\n",
    "\n",
    "    result = []\n",
    "\n",
    "    date = datetime.datetime.now().date()\n",
    "    days = [date - datetime.timedelta(days=i) for i in range(4)]\n",
    "\n",
    "    def recursion(start_date, ticker, finish_date=None):\n",
    "\n",
    "        if finish_date in days:\n",
    "            return result\n",
    "        else:\n",
    "            URL = f'http://iss.moex.com/iss/history/engines/{engine}/markets/{market}/boards/{board}/securities/{ticker}.json'\n",
    "            r = requests.get(URL, params={'iss.meta': 'off', 'iss.only': datablock,\n",
    "                                          'iss.json': 'extended',\n",
    "                                          f'{datablock}.columns': columns,\n",
    "                                          'from': start_date})\n",
    "\n",
    "            data = r.json()[1].get(datablock)\n",
    "            for i in data:\n",
    "                for key in i:\n",
    "                    result.append(i[key])\n",
    "\n",
    "            finish_date = data[len(data) - 1].get('TRADEDATE')\n",
    "            finish_date = datetime.datetime.strptime(finish_date, '%Y-%m-%d').date()\n",
    "            recursion(start_date=finish_date, ticker=ticker, finish_date=finish_date)\n",
    "\n",
    "    recursion(start_date=start_date, ticker=ticker, finish_date=None)\n",
    "    return result\n"
   ]
  },
  {
   "cell_type": "markdown",
   "metadata": {},
   "source": [
    "<b> Set up ticker for further calculating</b>"
   ]
  },
  {
   "cell_type": "code",
   "execution_count": 6,
   "metadata": {},
   "outputs": [],
   "source": [
    "ticker = 'MTSS'\n",
    "finish_date = '2023-03-17'"
   ]
  },
  {
   "cell_type": "markdown",
   "metadata": {},
   "source": [
    "<b> Get API data by specific ticker and make list of rows</b>"
   ]
  },
  {
   "cell_type": "code",
   "execution_count": 7,
   "metadata": {},
   "outputs": [
    {
     "data": {
      "text/plain": [
       "[['2023-03-17', 248.9, 248.1],\n",
       " ['2023-03-20', 248.55, 251.8],\n",
       " ['2023-03-21', 251.55, 255.25],\n",
       " ['2023-03-22', 256, 254.4],\n",
       " ['2023-03-23', 254.4, 254.4],\n",
       " ['2023-03-24', 254.5, 252.75],\n",
       " ['2023-03-27', 253.1, 256.85],\n",
       " ['2023-03-28', 257.25, 257.6],\n",
       " ['2023-03-29', 258, 257.95],\n",
       " ['2023-03-30', 258, 259.3],\n",
       " ['2023-03-31', 259.3, 257.85],\n",
       " ['2023-04-03', 258, 258],\n",
       " ['2023-04-04', 258, 254.75],\n",
       " ['2023-04-05', 255.25, 254.95],\n",
       " ['2023-04-06', 255.4, 255.75],\n",
       " ['2023-04-07', 256.9, 257.5],\n",
       " ['2023-04-10', 258.1, 259.25],\n",
       " ['2023-04-11', 259, 257],\n",
       " ['2023-04-12', 258.55, 261.25],\n",
       " ['2023-04-13', 261.25, 260.4],\n",
       " ['2023-04-14', 260.9, 260.05],\n",
       " ['2023-04-17', 260.15, 261],\n",
       " ['2023-04-18', 262.35, 265.4],\n",
       " ['2023-04-19', 265.4, 266.7],\n",
       " ['2023-04-20', 267.3, 268.35],\n",
       " ['2023-04-21', 269.9, 266.4],\n",
       " ['2023-04-24', 266.4, 269.25],\n",
       " ['2023-04-25', 269.5, 271.3],\n",
       " ['2023-04-26', 271.4, 272.9],\n",
       " ['2023-04-27', 272.9, 273.65],\n",
       " ['2023-04-28', 274, 272.15],\n",
       " ['2023-05-02', 273.75, 270.7],\n",
       " ['2023-05-03', 270.7, 265.05],\n",
       " ['2023-05-04', 266.6, 268.8],\n",
       " ['2023-05-05', 268.8, 266.1],\n",
       " ['2023-05-08', 267.2, 263.6],\n",
       " ['2023-05-10', 263.6, 272.65],\n",
       " ['2023-05-11', 273.85, 272.5],\n",
       " ['2023-05-12', 272.5, 276.4],\n",
       " ['2023-05-15', 278.8, 287.1],\n",
       " ['2023-05-16', 288, 293.8],\n",
       " ['2023-05-17', 294.8, 293.1],\n",
       " ['2023-05-18', 294, 313.55],\n",
       " ['2023-05-19', 313, 308],\n",
       " ['2023-05-22', 309, 305.3],\n",
       " ['2023-05-23', 305.85, 306.85],\n",
       " ['2023-05-24', 307, 306.2],\n",
       " ['2023-05-25', 306.9, 306.4],\n",
       " ['2023-05-26', 306.05, 308],\n",
       " ['2023-05-29', 309.35, 313.65],\n",
       " ['2023-05-30', 312.65, 316.6],\n",
       " ['2023-05-31', 317, 317.1],\n",
       " ['2023-06-01', 317.5, 317.35],\n",
       " ['2023-06-02', 319.45, 326.85],\n",
       " ['2023-06-05', 330, 329.6],\n",
       " ['2023-06-06', 329, 327.95],\n",
       " ['2023-06-07', 328.9, 326.6],\n",
       " ['2023-06-08', 326.5, 324.8],\n",
       " ['2023-06-09', 324.8, 328.9],\n",
       " ['2023-06-13', 330, 330.5],\n",
       " ['2023-06-14', 331.45, 330.3],\n",
       " ['2023-06-15', 331, 336.55],\n",
       " ['2023-06-16', 337, 341.95],\n",
       " ['2023-06-19', 345, 343.7],\n",
       " ['2023-06-20', 343.1, 345.65],\n",
       " ['2023-06-21', 346, 346.55],\n",
       " ['2023-06-22', 345.6, 345.6]]"
      ]
     },
     "metadata": {},
     "output_type": "display_data"
    }
   ],
   "source": [
    "result = get_historical_data_with_end_data(start_date='2018-01-03', finish_date=finish_date, ticker=ticker)\n",
    "\n",
    "data = []\n",
    "temporary = []\n",
    "\n",
    "for i, v in enumerate(result, 1):\n",
    "    temporary.append(v)\n",
    "    \n",
    "    if i % 3 == 0:\n",
    "        data.append(temporary)\n",
    "        temporary = []\n",
    "\n",
    "real_result = get_historical_data(start_date=finish_date, ticker=ticker)\n",
    "\n",
    "real_data = []\n",
    "temporary = []\n",
    "\n",
    "for i, v in enumerate(real_result, 1):\n",
    "    temporary.append(v)\n",
    "    \n",
    "    if i % 3 == 0:\n",
    "        real_data.append(temporary)\n",
    "        temporary = []"
   ]
  },
  {
   "cell_type": "markdown",
   "metadata": {
    "id": "t-eMHPT893hW"
   },
   "source": [
    "<b>Make DF and preprocessing data</b>"
   ]
  },
  {
   "cell_type": "code",
   "execution_count": 10,
   "metadata": {},
   "outputs": [
    {
     "data": {
      "text/html": [
       "<div>\n",
       "<style scoped>\n",
       "    .dataframe tbody tr th:only-of-type {\n",
       "        vertical-align: middle;\n",
       "    }\n",
       "\n",
       "    .dataframe tbody tr th {\n",
       "        vertical-align: top;\n",
       "    }\n",
       "\n",
       "    .dataframe thead th {\n",
       "        text-align: right;\n",
       "    }\n",
       "</style>\n",
       "<table border=\"1\" class=\"dataframe\">\n",
       "  <thead>\n",
       "    <tr style=\"text-align: right;\">\n",
       "      <th></th>\n",
       "      <th>ds</th>\n",
       "      <th>y</th>\n",
       "      <th>y_18</th>\n",
       "      <th>y_50</th>\n",
       "    </tr>\n",
       "  </thead>\n",
       "  <tbody>\n",
       "    <tr>\n",
       "      <th>1329</th>\n",
       "      <td>2023-03-13</td>\n",
       "      <td>256.65</td>\n",
       "      <td>253.79</td>\n",
       "      <td>248.18</td>\n",
       "    </tr>\n",
       "    <tr>\n",
       "      <th>1330</th>\n",
       "      <td>2023-03-14</td>\n",
       "      <td>255.90</td>\n",
       "      <td>253.98</td>\n",
       "      <td>248.57</td>\n",
       "    </tr>\n",
       "    <tr>\n",
       "      <th>1331</th>\n",
       "      <td>2023-03-15</td>\n",
       "      <td>249.95</td>\n",
       "      <td>254.30</td>\n",
       "      <td>248.86</td>\n",
       "    </tr>\n",
       "    <tr>\n",
       "      <th>1332</th>\n",
       "      <td>2023-03-16</td>\n",
       "      <td>247.90</td>\n",
       "      <td>254.33</td>\n",
       "      <td>249.09</td>\n",
       "    </tr>\n",
       "    <tr>\n",
       "      <th>1333</th>\n",
       "      <td>2023-03-17</td>\n",
       "      <td>248.10</td>\n",
       "      <td>254.26</td>\n",
       "      <td>249.33</td>\n",
       "    </tr>\n",
       "  </tbody>\n",
       "</table>\n",
       "</div>"
      ],
      "text/plain": [
       "             ds       y    y_18    y_50\n",
       "1329 2023-03-13  256.65  253.79  248.18\n",
       "1330 2023-03-14  255.90  253.98  248.57\n",
       "1331 2023-03-15  249.95  254.30  248.86\n",
       "1332 2023-03-16  247.90  254.33  249.09\n",
       "1333 2023-03-17  248.10  254.26  249.33"
      ]
     },
     "metadata": {},
     "output_type": "display_data"
    }
   ],
   "source": [
    "df = pd.DataFrame(columns=['date', 'open', 'close'], data=data)\n",
    "df.drop(df[df['close'] == 'None'].index, inplace=True)\n",
    "df = df.reset_index(drop=True)\n",
    "\n",
    "df = df.rename(columns={'close': 'y', 'date': 'ds'})\n",
    "df = df.drop(columns=['open'])\n",
    "\n",
    "df['ds'] = pd.to_datetime(df['ds'])\n",
    "df['y'] = df['y'].astype('float')\n",
    "\n",
    "df['y_18'] = df.iloc[:,1].rolling(window=18).mean().round(2)\n",
    "df['y_50'] = df.iloc[:,1].rolling(window=50).mean().round(2)\n",
    "\n",
    "display(df.tail())"
   ]
  },
  {
   "cell_type": "code",
   "execution_count": 14,
   "metadata": {},
   "outputs": [
    {
     "data": {
      "text/html": [
       "<div>\n",
       "<style scoped>\n",
       "    .dataframe tbody tr th:only-of-type {\n",
       "        vertical-align: middle;\n",
       "    }\n",
       "\n",
       "    .dataframe tbody tr th {\n",
       "        vertical-align: top;\n",
       "    }\n",
       "\n",
       "    .dataframe thead th {\n",
       "        text-align: right;\n",
       "    }\n",
       "</style>\n",
       "<table border=\"1\" class=\"dataframe\">\n",
       "  <thead>\n",
       "    <tr style=\"text-align: right;\">\n",
       "      <th></th>\n",
       "      <th>ds</th>\n",
       "      <th>y</th>\n",
       "    </tr>\n",
       "  </thead>\n",
       "  <tbody>\n",
       "    <tr>\n",
       "      <th>0</th>\n",
       "      <td>2023-03-20</td>\n",
       "      <td>251.80</td>\n",
       "    </tr>\n",
       "    <tr>\n",
       "      <th>1</th>\n",
       "      <td>2023-03-21</td>\n",
       "      <td>255.25</td>\n",
       "    </tr>\n",
       "    <tr>\n",
       "      <th>2</th>\n",
       "      <td>2023-03-22</td>\n",
       "      <td>254.40</td>\n",
       "    </tr>\n",
       "    <tr>\n",
       "      <th>3</th>\n",
       "      <td>2023-03-23</td>\n",
       "      <td>254.40</td>\n",
       "    </tr>\n",
       "    <tr>\n",
       "      <th>4</th>\n",
       "      <td>2023-03-24</td>\n",
       "      <td>252.75</td>\n",
       "    </tr>\n",
       "  </tbody>\n",
       "</table>\n",
       "</div>"
      ],
      "text/plain": [
       "          ds       y\n",
       "0 2023-03-20  251.80\n",
       "1 2023-03-21  255.25\n",
       "2 2023-03-22  254.40\n",
       "3 2023-03-23  254.40\n",
       "4 2023-03-24  252.75"
      ]
     },
     "metadata": {},
     "output_type": "display_data"
    }
   ],
   "source": [
    "df_real = pd.DataFrame(columns=['date', 'open', 'close'], data=real_data[1:])\n",
    "df_real.drop(df_real[df_real['close'] == 'None'].index, inplace=True)\n",
    "df_real = df_real.reset_index(drop=True)\n",
    "\n",
    "df_real = df_real.rename(columns={'close': 'y', 'date': 'ds'})\n",
    "df_real = df_real.drop(columns=['open'])\n",
    "\n",
    "df_real['ds'] = pd.to_datetime(df_real['ds'])\n",
    "df_real['y'] = df_real['y'].astype('float')\n",
    "\n",
    "display(df_real.head())\n",
    "\n",
    "#надо соединить две DF в одну, чтобы смотреть факт рядом с прогнозом"
   ]
  },
  {
   "cell_type": "markdown",
   "metadata": {
    "id": "PJ9ti0Th-jYR"
   },
   "source": [
    "# Let's Start Prophet"
   ]
  },
  {
   "cell_type": "markdown",
   "metadata": {
    "id": "EjBAUgYd_Kk6"
   },
   "source": [
    "<b>Look at the data</b>"
   ]
  },
  {
   "cell_type": "code",
   "execution_count": null,
   "metadata": {
    "id": "NuLYQ3ex_F7r"
   },
   "outputs": [],
   "source": [
    "df.set_index('ds').y.plot()\n",
    "df.set_index('ds').y_18.plot()\n",
    "df.set_index('ds').y_50.plot()"
   ]
  },
  {
   "cell_type": "markdown",
   "metadata": {
    "id": "7_5zSfyL_oCS"
   },
   "source": [
    "**Running Prophet**"
   ]
  },
  {
   "cell_type": "code",
   "execution_count": null,
   "metadata": {
    "id": "a0v6cJzVnmXR"
   },
   "outputs": [],
   "source": [
    "model = Prophet()\n",
    "model.fit(df)\n",
    "\n",
    "# Added (AM: changed to 30 days [23.06.2023])\n",
    "future = model.make_future_dataframe(periods=30, freq = 'd')\n",
    "#future.tail()\n",
    "\n",
    "#model.fit(df)\n",
    "forecast = model.predict(future)\n",
    "fig = model.plot_components(forecast)"
   ]
  },
  {
   "cell_type": "code",
   "execution_count": null,
   "metadata": {
    "id": "yx-9sDxgAMGM"
   },
   "outputs": [],
   "source": [
    "forecast = model.predict(future)"
   ]
  },
  {
   "cell_type": "code",
   "execution_count": null,
   "metadata": {
    "id": "x-JkYiNDAPXU"
   },
   "outputs": [],
   "source": [
    "forecast[['ds', 'yhat', 'yhat_lower', 'yhat_upper']].tail()"
   ]
  },
  {
   "cell_type": "markdown",
   "metadata": {
    "id": "ftVBZ_5MAWif"
   },
   "source": [
    "<b>Plotting</b>"
   ]
  },
  {
   "cell_type": "code",
   "execution_count": null,
   "metadata": {
    "id": "AdknfotQATKV"
   },
   "outputs": [],
   "source": [
    "model.plot(forecast);"
   ]
  },
  {
   "cell_type": "markdown",
   "metadata": {
    "id": "MZ8nZBqyAsGT"
   },
   "source": [
    "<b>Visualizing Prophet models</b>"
   ]
  },
  {
   "cell_type": "code",
   "execution_count": null,
   "metadata": {
    "id": "QGnt_crfAYNS"
   },
   "outputs": [],
   "source": [
    "df.set_index('ds', inplace=True)\n",
    "forecast.set_index('ds', inplace=True)"
   ]
  },
  {
   "cell_type": "code",
   "execution_count": null,
   "metadata": {
    "id": "9EWrOcBUAvsY"
   },
   "outputs": [],
   "source": [
    "viz_df = df.join(forecast[['yhat', 'yhat_lower','yhat_upper']], how = 'outer')"
   ]
  },
  {
   "cell_type": "code",
   "execution_count": null,
   "metadata": {},
   "outputs": [],
   "source": [
    "#for better vision take only 60 last days\n",
    "viz_df = viz_df.iloc[len(viz_df['yhat'])-60:]"
   ]
  },
  {
   "cell_type": "code",
   "execution_count": null,
   "metadata": {
    "id": "L7dFuz9eBAhZ"
   },
   "outputs": [],
   "source": [
    "viz_df[['y', 'yhat','y_18','y_50']].plot()"
   ]
  },
  {
   "cell_type": "markdown",
   "metadata": {
    "id": "OHfhG0YVJS2i"
   },
   "source": [
    "<b> Saving project data in *xlsx</b>"
   ]
  },
  {
   "cell_type": "code",
   "execution_count": null,
   "metadata": {},
   "outputs": [],
   "source": [
    "#viz_df.to_excel(\"forecast_results/MTSS_forecast.xlsx\")  "
   ]
  }
 ],
 "metadata": {
  "colab": {
   "provenance": []
  },
  "kernelspec": {
   "display_name": "Python 3 (ipykernel)",
   "language": "python",
   "name": "python3"
  },
  "language_info": {
   "codemirror_mode": {
    "name": "ipython",
    "version": 3
   },
   "file_extension": ".py",
   "mimetype": "text/x-python",
   "name": "python",
   "nbconvert_exporter": "python",
   "pygments_lexer": "ipython3",
   "version": "3.7.16"
  }
 },
 "nbformat": 4,
 "nbformat_minor": 1
}
